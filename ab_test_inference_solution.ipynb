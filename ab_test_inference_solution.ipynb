{
 "cells": [
  {
   "cell_type": "markdown",
   "metadata": {
    "id": "MMg4R2lp-u7l"
   },
   "source": [
    "## A/B - тестирование\n",
    "\n",
    "\n",
    "Внутри увидите пример как формируются результаты по аб-тестированию. Прочтите сначала его, затем приступайте к выполнению задания.\n",
    "\n",
    "В папке присутствует файл ab_test_ensembles.csv , который содержит реальные данные ab теста, когда-то проходившего у меня. Вам необходимо провести стандартный пайплайн, начав с ознакомления данных до вывода отчета. Условие гипотезы такое же как и в примере, нам необходимо нашим новым вариантом увеличить коэффициент конверсии на 2%, коэффициенты конверсии одинаковы с файлом из примера (плюс/минус) поэтому с этим проблем быть не должно. Условия гипотез теже.\n",
    "\n",
    "В A/B тесте было два варианта работы сервиса - standard и svm_ensemble_v_1_22, где работала модель классификации пользователей.\n",
    "\n",
    "Ответьте на 2 вопроса:\n",
    "\n",
    "1. Стоит ли нам оставить старый вариант работы или заменить на вариант svm_ensemble_v_1_22 (используем всю выборку 200к+ записей)\n",
    "2. Так же посчитайте вывод для типа пользователей (user_type) стоит ли для новых/старых пользователей (new/registered user) оставить старый / новый вариант работы (разделяем всю выборку 200к+ записей на группы)\n",
    "\n",
    "Также необходимо провести небольшое EDA по представленному датасету, нарисовать два графика на ваш вкус.\n",
    "\n",
    "---\n",
    "\n",
    "**Баллы могут быть снижены** за качество кода - старайтесь чтобы код был максимально лаконичным. Названия переменных (если они используются) должны отражать максимальную ее сущность.\n",
    "\n",
    "**Комментарии по сдаче практического задания**:\n",
    "1. Залить в репу на github в папку module_2/ab_test_inference\n",
    "2. Ссылку на репо отправлять мне на почту alexadevv@gmail.com не позднее дедлайна.\n",
    "3. Тема письма: Домашнее задание по модулю 2 <Фамилия Имя>\n",
    "4. После дедлайна, неотправленные на почту задания, оцениваются максимум в 7 баллов."
   ]
  },
  {
   "cell_type": "markdown",
   "metadata": {},
   "source": [
    "# 1. Стоит ли нам оставить старый вариант работы или заменить на вариант svm_ensemble_v_1_22 (используем всю выборку 200к+ записей)"
   ]
  },
  {
   "cell_type": "code",
   "execution_count": 1,
   "metadata": {
    "id": "JQJeO58Q-8fc"
   },
   "outputs": [],
   "source": [
    "#### Импортируем библиотеки\n",
    "import numpy as np\n",
    "import pandas as pd\n",
    "import scipy.stats as stats\n",
    "import statsmodels.stats.api as sms\n",
    "import matplotlib as mpl\n",
    "import matplotlib.pyplot as plt\n",
    "import seaborn as sns\n",
    "from math import ceil\n",
    "from tqdm import tqdm\n",
    "\n",
    "# Настройки отображения графиков\n",
    "%matplotlib inline\n",
    "# Стили графиков \n",
    "sns.set_style(\"whitegrid\")\n",
    "font = {'family' : 'Helvetica',\n",
    "        'weight' : 'bold',\n",
    "        'size'   : 14}\n",
    "mpl.rc('font', **font)\n",
    "\n"
   ]
  },
  {
   "cell_type": "markdown",
   "metadata": {},
   "source": [
    "### Сбор данных и их подготовка "
   ]
  },
  {
   "cell_type": "code",
   "execution_count": 2,
   "metadata": {
    "scrolled": true
   },
   "outputs": [
    {
     "data": {
      "text/html": [
       "<div>\n",
       "<style scoped>\n",
       "    .dataframe tbody tr th:only-of-type {\n",
       "        vertical-align: middle;\n",
       "    }\n",
       "\n",
       "    .dataframe tbody tr th {\n",
       "        vertical-align: top;\n",
       "    }\n",
       "\n",
       "    .dataframe thead th {\n",
       "        text-align: right;\n",
       "    }\n",
       "</style>\n",
       "<table border=\"1\" class=\"dataframe\">\n",
       "  <thead>\n",
       "    <tr style=\"text-align: right;\">\n",
       "      <th></th>\n",
       "      <th>user_id</th>\n",
       "      <th>timestamp</th>\n",
       "      <th>group</th>\n",
       "      <th>variants</th>\n",
       "      <th>converted</th>\n",
       "      <th>location</th>\n",
       "      <th>age_group</th>\n",
       "      <th>user_type</th>\n",
       "    </tr>\n",
       "  </thead>\n",
       "  <tbody>\n",
       "    <tr>\n",
       "      <th>0</th>\n",
       "      <td>9109b0dc-d393-497f-8d63-ba9a25dd16b4</td>\n",
       "      <td>2022-05-21 22:11:48.556739</td>\n",
       "      <td>control</td>\n",
       "      <td>standard</td>\n",
       "      <td>0</td>\n",
       "      <td>United Kingdom</td>\n",
       "      <td>18-25</td>\n",
       "      <td>registered_user</td>\n",
       "    </tr>\n",
       "    <tr>\n",
       "      <th>1</th>\n",
       "      <td>2430c3d2-f75b-4b31-8271-51b6a76c2652</td>\n",
       "      <td>2022-05-12 08:01:45.159739</td>\n",
       "      <td>control</td>\n",
       "      <td>standard</td>\n",
       "      <td>0</td>\n",
       "      <td>United Kingdom</td>\n",
       "      <td>42-49</td>\n",
       "      <td>registered_user</td>\n",
       "    </tr>\n",
       "    <tr>\n",
       "      <th>2</th>\n",
       "      <td>44788c4e-8dd2-4fad-b986-75e76f4adb64</td>\n",
       "      <td>2022-05-11 16:55:06.154213</td>\n",
       "      <td>treatment</td>\n",
       "      <td>svm_ensemble_v_1_22</td>\n",
       "      <td>0</td>\n",
       "      <td>United Kingdom</td>\n",
       "      <td>26-33</td>\n",
       "      <td>new_user</td>\n",
       "    </tr>\n",
       "    <tr>\n",
       "      <th>3</th>\n",
       "      <td>4699a417-506d-41b8-a354-6af6ad576963</td>\n",
       "      <td>2022-05-08 18:28:03.143765</td>\n",
       "      <td>treatment</td>\n",
       "      <td>svm_ensemble_v_1_22</td>\n",
       "      <td>0</td>\n",
       "      <td>United Kingdom</td>\n",
       "      <td>42-49</td>\n",
       "      <td>registered_user</td>\n",
       "    </tr>\n",
       "    <tr>\n",
       "      <th>4</th>\n",
       "      <td>304b0d28-bcdf-401a-9dff-66230d3ba0bc</td>\n",
       "      <td>2022-05-21 01:52:26.210827</td>\n",
       "      <td>control</td>\n",
       "      <td>standard</td>\n",
       "      <td>1</td>\n",
       "      <td>United Kingdom</td>\n",
       "      <td>42-49</td>\n",
       "      <td>registered_user</td>\n",
       "    </tr>\n",
       "    <tr>\n",
       "      <th>5</th>\n",
       "      <td>426f77eb-8739-43b6-999c-aecd14d9f346</td>\n",
       "      <td>2022-05-10 15:20:49.083499</td>\n",
       "      <td>control</td>\n",
       "      <td>standard</td>\n",
       "      <td>0</td>\n",
       "      <td>United Kingdom</td>\n",
       "      <td>42-49</td>\n",
       "      <td>registered_user</td>\n",
       "    </tr>\n",
       "    <tr>\n",
       "      <th>6</th>\n",
       "      <td>aa9d93c5-a18f-444a-a522-7e7145835362</td>\n",
       "      <td>2022-05-19 03:26:46.940749</td>\n",
       "      <td>treatment</td>\n",
       "      <td>svm_ensemble_v_1_22</td>\n",
       "      <td>1</td>\n",
       "      <td>United Kingdom</td>\n",
       "      <td>26-33</td>\n",
       "      <td>registered_user</td>\n",
       "    </tr>\n",
       "    <tr>\n",
       "      <th>7</th>\n",
       "      <td>de214e30-9b8d-44cf-87b1-16917f3e1c89</td>\n",
       "      <td>2022-05-17 01:48:29.539573</td>\n",
       "      <td>control</td>\n",
       "      <td>standard</td>\n",
       "      <td>0</td>\n",
       "      <td>United Kingdom</td>\n",
       "      <td>18-25</td>\n",
       "      <td>registered_user</td>\n",
       "    </tr>\n",
       "    <tr>\n",
       "      <th>8</th>\n",
       "      <td>070f398e-e6bf-43e7-88bb-37eff2cb9212</td>\n",
       "      <td>2022-05-04 17:58:08.979471</td>\n",
       "      <td>treatment</td>\n",
       "      <td>svm_ensemble_v_1_22</td>\n",
       "      <td>1</td>\n",
       "      <td>United Kingdom</td>\n",
       "      <td>18-25</td>\n",
       "      <td>new_user</td>\n",
       "    </tr>\n",
       "    <tr>\n",
       "      <th>9</th>\n",
       "      <td>9cff0b7e-d42b-4508-9fbe-a4e74f7f29c5</td>\n",
       "      <td>2022-05-15 18:11:06.610965</td>\n",
       "      <td>treatment</td>\n",
       "      <td>svm_ensemble_v_1_22</td>\n",
       "      <td>1</td>\n",
       "      <td>United Kingdom</td>\n",
       "      <td>26-33</td>\n",
       "      <td>new_user</td>\n",
       "    </tr>\n",
       "  </tbody>\n",
       "</table>\n",
       "</div>"
      ],
      "text/plain": [
       "                                user_id                   timestamp  \\\n",
       "0  9109b0dc-d393-497f-8d63-ba9a25dd16b4  2022-05-21 22:11:48.556739   \n",
       "1  2430c3d2-f75b-4b31-8271-51b6a76c2652  2022-05-12 08:01:45.159739   \n",
       "2  44788c4e-8dd2-4fad-b986-75e76f4adb64  2022-05-11 16:55:06.154213   \n",
       "3  4699a417-506d-41b8-a354-6af6ad576963  2022-05-08 18:28:03.143765   \n",
       "4  304b0d28-bcdf-401a-9dff-66230d3ba0bc  2022-05-21 01:52:26.210827   \n",
       "5  426f77eb-8739-43b6-999c-aecd14d9f346  2022-05-10 15:20:49.083499   \n",
       "6  aa9d93c5-a18f-444a-a522-7e7145835362  2022-05-19 03:26:46.940749   \n",
       "7  de214e30-9b8d-44cf-87b1-16917f3e1c89  2022-05-17 01:48:29.539573   \n",
       "8  070f398e-e6bf-43e7-88bb-37eff2cb9212  2022-05-04 17:58:08.979471   \n",
       "9  9cff0b7e-d42b-4508-9fbe-a4e74f7f29c5  2022-05-15 18:11:06.610965   \n",
       "\n",
       "       group             variants  converted        location age_group  \\\n",
       "0    control             standard          0  United Kingdom     18-25   \n",
       "1    control             standard          0  United Kingdom     42-49   \n",
       "2  treatment  svm_ensemble_v_1_22          0  United Kingdom     26-33   \n",
       "3  treatment  svm_ensemble_v_1_22          0  United Kingdom     42-49   \n",
       "4    control             standard          1  United Kingdom     42-49   \n",
       "5    control             standard          0  United Kingdom     42-49   \n",
       "6  treatment  svm_ensemble_v_1_22          1  United Kingdom     26-33   \n",
       "7    control             standard          0  United Kingdom     18-25   \n",
       "8  treatment  svm_ensemble_v_1_22          1  United Kingdom     18-25   \n",
       "9  treatment  svm_ensemble_v_1_22          1  United Kingdom     26-33   \n",
       "\n",
       "         user_type  \n",
       "0  registered_user  \n",
       "1  registered_user  \n",
       "2         new_user  \n",
       "3  registered_user  \n",
       "4  registered_user  \n",
       "5  registered_user  \n",
       "6  registered_user  \n",
       "7  registered_user  \n",
       "8         new_user  \n",
       "9         new_user  "
      ]
     },
     "execution_count": 2,
     "metadata": {},
     "output_type": "execute_result"
    }
   ],
   "source": [
    "df = pd.read_csv('ab_test_ensembles.csv')\n",
    "df.head(10)"
   ]
  },
  {
   "cell_type": "code",
   "execution_count": 3,
   "metadata": {},
   "outputs": [
    {
     "name": "stdout",
     "output_type": "stream",
     "text": [
      "<class 'pandas.core.frame.DataFrame'>\n",
      "RangeIndex: 294478 entries, 0 to 294477\n",
      "Data columns (total 8 columns):\n",
      " #   Column     Non-Null Count   Dtype \n",
      "---  ------     --------------   ----- \n",
      " 0   user_id    294478 non-null  object\n",
      " 1   timestamp  294478 non-null  object\n",
      " 2   group      294478 non-null  object\n",
      " 3   variants   294478 non-null  object\n",
      " 4   converted  294478 non-null  int64 \n",
      " 5   location   294478 non-null  object\n",
      " 6   age_group  294478 non-null  object\n",
      " 7   user_type  294478 non-null  object\n",
      "dtypes: int64(1), object(7)\n",
      "memory usage: 18.0+ MB\n"
     ]
    }
   ],
   "source": [
    "# смотрим основную информацию о нашем DataFrame которая может показать в каких данных много пропусков и тип данных\n",
    "df.info()"
   ]
  },
  {
   "cell_type": "code",
   "execution_count": 4,
   "metadata": {},
   "outputs": [
    {
     "data": {
      "text/html": [
       "<div>\n",
       "<style scoped>\n",
       "    .dataframe tbody tr th:only-of-type {\n",
       "        vertical-align: middle;\n",
       "    }\n",
       "\n",
       "    .dataframe tbody tr th {\n",
       "        vertical-align: top;\n",
       "    }\n",
       "\n",
       "    .dataframe thead th {\n",
       "        text-align: right;\n",
       "    }\n",
       "</style>\n",
       "<table border=\"1\" class=\"dataframe\">\n",
       "  <thead>\n",
       "    <tr style=\"text-align: right;\">\n",
       "      <th>variants</th>\n",
       "      <th>standard</th>\n",
       "      <th>svm_ensemble_v_1_22</th>\n",
       "    </tr>\n",
       "    <tr>\n",
       "      <th>group</th>\n",
       "      <th></th>\n",
       "      <th></th>\n",
       "    </tr>\n",
       "  </thead>\n",
       "  <tbody>\n",
       "    <tr>\n",
       "      <th>control</th>\n",
       "      <td>145274</td>\n",
       "      <td>1928</td>\n",
       "    </tr>\n",
       "    <tr>\n",
       "      <th>treatment</th>\n",
       "      <td>1965</td>\n",
       "      <td>145311</td>\n",
       "    </tr>\n",
       "  </tbody>\n",
       "</table>\n",
       "</div>"
      ],
      "text/plain": [
       "variants   standard  svm_ensemble_v_1_22\n",
       "group                                   \n",
       "control      145274                 1928\n",
       "treatment      1965               145311"
      ]
     },
     "execution_count": 4,
     "metadata": {},
     "output_type": "execute_result"
    }
   ],
   "source": [
    "# Убедимся, что контрольная группа и испытуемая видят разные работы сервиса\n",
    "pd.crosstab(df['group'], df['variants'])"
   ]
  },
  {
   "cell_type": "code",
   "execution_count": 5,
   "metadata": {},
   "outputs": [
    {
     "name": "stdout",
     "output_type": "stream",
     "text": [
      "У нас имеются 0 пользователей, которые не уникальны в нашей выборке.\n"
     ]
    }
   ],
   "source": [
    "# проверяем уникальность пользователей\n",
    "sessions = df['user_id'].value_counts(ascending=False)\n",
    "duplicate_users = sessions[sessions > 1].count()\n",
    "print(f\"У нас имеются {duplicate_users} пользователей, которые не уникальны в нашей выборке.\")"
   ]
  },
  {
   "cell_type": "code",
   "execution_count": 6,
   "metadata": {},
   "outputs": [],
   "source": [
    "# используем всю выборку 200к+ записей для формирования\n",
    "# control_sample = df[df['group'] == 'control']\n",
    "# treatment_sample = df[df['group'] == 'treatment']\n",
    "\n",
    "# Сформируем общую случайную выборку\n",
    "# ab_df = pd.concat([control_sample, treatment_sample], axis=0)\n",
    "# ab_df.reset_index(drop=True, inplace=True)\n",
    "# ab_df.head()"
   ]
  },
  {
   "cell_type": "code",
   "execution_count": 7,
   "metadata": {},
   "outputs": [
    {
     "data": {
      "text/plain": [
       "group\n",
       "treatment    0.500126\n",
       "control      0.499874\n",
       "Name: proportion, dtype: float64"
      ]
     },
     "execution_count": 7,
     "metadata": {},
     "output_type": "execute_result"
    }
   ],
   "source": [
    "# определяем долю уникальных значений относительно общего числа вхождений\n",
    "df.group.value_counts(normalize=True)"
   ]
  },
  {
   "cell_type": "markdown",
   "metadata": {},
   "source": [
    "### Визуализация результатов эксперимента "
   ]
  },
  {
   "cell_type": "code",
   "execution_count": 8,
   "metadata": {},
   "outputs": [
    {
     "data": {
      "text/html": [
       "<div>\n",
       "<style scoped>\n",
       "    .dataframe tbody tr th:only-of-type {\n",
       "        vertical-align: middle;\n",
       "    }\n",
       "\n",
       "    .dataframe tbody tr th {\n",
       "        vertical-align: top;\n",
       "    }\n",
       "\n",
       "    .dataframe thead th {\n",
       "        text-align: right;\n",
       "    }\n",
       "</style>\n",
       "<table border=\"1\" class=\"dataframe\">\n",
       "  <thead>\n",
       "    <tr style=\"text-align: right;\">\n",
       "      <th></th>\n",
       "      <th>CR mean</th>\n",
       "      <th>CR std</th>\n",
       "      <th>CR se</th>\n",
       "    </tr>\n",
       "    <tr>\n",
       "      <th>group</th>\n",
       "      <th></th>\n",
       "      <th></th>\n",
       "      <th></th>\n",
       "    </tr>\n",
       "  </thead>\n",
       "  <tbody>\n",
       "    <tr>\n",
       "      <th>control</th>\n",
       "      <td>0.120399</td>\n",
       "      <td>0.325428</td>\n",
       "      <td>0.000848</td>\n",
       "    </tr>\n",
       "    <tr>\n",
       "      <th>treatment</th>\n",
       "      <td>0.118920</td>\n",
       "      <td>0.323694</td>\n",
       "      <td>0.000843</td>\n",
       "    </tr>\n",
       "  </tbody>\n",
       "</table>\n",
       "</div>"
      ],
      "text/plain": [
       "            CR mean    CR std     CR se\n",
       "group                                  \n",
       "control    0.120399  0.325428  0.000848\n",
       "treatment  0.118920  0.323694  0.000843"
      ]
     },
     "execution_count": 8,
     "metadata": {},
     "output_type": "execute_result"
    }
   ],
   "source": [
    "# рассчитаем выборочные статистики, чтобы понять каково распределение данных и как выглядят наши выборки\n",
    "conversion_rates = df.groupby('group')['converted']\n",
    "\n",
    "# Стандартное отклонение для выборки\n",
    "std_proportion = lambda x: np.std(x, ddof=0)\n",
    "\n",
    "# Стандартная ошибка для выборки\n",
    "se_proportion = lambda x: stats.sem(x, ddof=0)\n",
    "\n",
    "# уровень коверсии\n",
    "conversion_rates = conversion_rates.agg(['mean', std_proportion, se_proportion]).rename(columns={'mean':'CR mean', '<lambda_0>':'CR std', '<lambda_1>':'CR se'})\n",
    "conversion_rates"
   ]
  },
  {
   "cell_type": "markdown",
   "metadata": {},
   "source": [
    "Как мы видим по метрикам, два эксперимента +/- по выборочным статистикам показывают себя одинаково, за исключением выборочного среднего коэффициента конверсии ~11.89% против ~12.04%"
   ]
  },
  {
   "cell_type": "code",
   "execution_count": 9,
   "metadata": {},
   "outputs": [
    {
     "data": {
      "image/png": "[encoded data removed]",
      "text/plain": [
       "<Figure size 800x600 with 1 Axes>"
      ]
     },
     "metadata": {},
     "output_type": "display_data"
    }
   ],
   "source": [
    "plt.rcParams['font.family'] = 'sans-serif'\n",
    "# определим цвета.  сопоставим цвета с колонкой group в нашем df\n",
    "unique_groups = df['group'].unique()\n",
    "colors = sns.color_palette(\"Set2\", n_colors=len(unique_groups))  # выберем палитру и сопоставим с unique_groups\n",
    "\n",
    "plt.figure(figsize=(8, 6))\n",
    "sns.barplot(x='group', y='converted', data=df, hue='group', errorbar=('ci', False), palette=colors, legend=False) \n",
    "plt.ylim(0, 0.17)\n",
    "plt.title('Conversion rate by groups', pad=20)\n",
    "plt.xlabel('Group', labelpad=15)\n",
    "plt.ylabel('Converted (proportion)', labelpad=15)\n",
    "plt.show()\n"
   ]
  },
  {
   "cell_type": "markdown",
   "metadata": {},
   "source": [
    "### Тестирование гипотезы "
   ]
  },
  {
   "cell_type": "code",
   "execution_count": 10,
   "metadata": {},
   "outputs": [
    {
     "name": "stdout",
     "output_type": "stream",
     "text": [
      "Z-statistic: 1.24\n",
      "p-value: 0.216\n",
      "CI 95% for control group: [0.119, 0.122]\n",
      "CI 95% for treatment group: [0.117, 0.121]\n"
     ]
    }
   ],
   "source": [
    "from statsmodels.stats.proportion import proportions_ztest, proportion_confint\n",
    "\n",
    "control_results = df[df['group'] == 'control']['converted']\n",
    "treatment_results = df[df['group'] == 'treatment']['converted']\n",
    "\n",
    "n_con = control_results.count()\n",
    "n_treat = treatment_results.count()\n",
    "successes = [control_results.sum(), treatment_results.sum()]\n",
    "nobs = [n_con, n_treat]\n",
    "\n",
    "z_stat, pval = proportions_ztest(successes, nobs=nobs)\n",
    "(lower_con, lower_treat), (upper_con, upper_treat) = proportion_confint(successes, nobs=nobs, alpha=0.05)\n",
    "\n",
    "print(f'Z-statistic: {z_stat:.2f}')\n",
    "print(f'p-value: {pval:.3f}')\n",
    "print(f'CI 95% for control group: [{lower_con:.3f}, {upper_con:.3f}]')\n",
    "print(f'CI 95% for treatment group: [{lower_treat:.3f}, {upper_treat:.3f}]')"
   ]
  },
  {
   "cell_type": "markdown",
   "metadata": {},
   "source": [
    "### Интерпретация результатов \n",
    "\n",
    "Так как наше p-значение = 0.216 что является высоким показателем по сравнению с выбранной альфой 0.05, то согласно статистическому выводу, мы не можем отклонить нулевую гипотезу H0, это означает, что новый вариант работы svm_ensemble_v_1_22 никак статистически значимо не влияет на уровень конверсии и повышение уровня конверсии - это случайность.\n",
    "\n",
    "Доверительный интервал для испытуемой группы [0.117, 0.121] или 11% и 12% соответственно:\n",
    "\n",
    "Он не включает наш baseline в 13%.\n",
    "Он не достигает нашей цели 15%\n",
    "Мы можем интерпретировать это как - наиболее вероятно, что реальный уровень конверсии нового варианта работы svm_ensemble_v_1_22  будет близок к baseline чем к 15%, который мы определили по нашей цели. \n",
    "\n",
    "Таким образом у нас есть выбор:\n",
    "1. Так как мы будем близко к baseline то можно оставить вариант работы standart.\n",
    "2. Можно создать новый вариант (потратить время, деньги, нервы) и опять протестировать, надо решать стоят ли затраты на новый вариант 2% улучшения (покроются ли затраты на работу).\n",
    "\n",
    "Нам стоит оставить старый вариант работы."
   ]
  },
  {
   "cell_type": "markdown",
   "metadata": {},
   "source": [
    "# 2.Так же посчитайте вывод для типа пользователей (user_type) стоит ли для новых/старых пользователей (new/registered user) оставить старый / новый вариант работы (разделяем всю выборку 200к+ записей на группы)"
   ]
  },
  {
   "cell_type": "markdown",
   "metadata": {},
   "source": [
    "##### Проводим А/В тесты для двух групп отдельно:\n",
    "1.registered user    \n",
    "2. new user"
   ]
  },
  {
   "cell_type": "markdown",
   "metadata": {},
   "source": [
    "## Тест группы new_user"
   ]
  },
  {
   "cell_type": "code",
   "execution_count": 11,
   "metadata": {},
   "outputs": [
    {
     "data": {
      "text/html": [
       "<div>\n",
       "<style scoped>\n",
       "    .dataframe tbody tr th:only-of-type {\n",
       "        vertical-align: middle;\n",
       "    }\n",
       "\n",
       "    .dataframe tbody tr th {\n",
       "        vertical-align: top;\n",
       "    }\n",
       "\n",
       "    .dataframe thead th {\n",
       "        text-align: right;\n",
       "    }\n",
       "</style>\n",
       "<table border=\"1\" class=\"dataframe\">\n",
       "  <thead>\n",
       "    <tr style=\"text-align: right;\">\n",
       "      <th></th>\n",
       "      <th>user_id</th>\n",
       "      <th>timestamp</th>\n",
       "      <th>group</th>\n",
       "      <th>variants</th>\n",
       "      <th>converted</th>\n",
       "      <th>location</th>\n",
       "      <th>age_group</th>\n",
       "      <th>user_type</th>\n",
       "    </tr>\n",
       "  </thead>\n",
       "  <tbody>\n",
       "    <tr>\n",
       "      <th>2</th>\n",
       "      <td>44788c4e-8dd2-4fad-b986-75e76f4adb64</td>\n",
       "      <td>2022-05-11 16:55:06.154213</td>\n",
       "      <td>treatment</td>\n",
       "      <td>svm_ensemble_v_1_22</td>\n",
       "      <td>0</td>\n",
       "      <td>United Kingdom</td>\n",
       "      <td>26-33</td>\n",
       "      <td>new_user</td>\n",
       "    </tr>\n",
       "    <tr>\n",
       "      <th>8</th>\n",
       "      <td>070f398e-e6bf-43e7-88bb-37eff2cb9212</td>\n",
       "      <td>2022-05-04 17:58:08.979471</td>\n",
       "      <td>treatment</td>\n",
       "      <td>svm_ensemble_v_1_22</td>\n",
       "      <td>1</td>\n",
       "      <td>United Kingdom</td>\n",
       "      <td>18-25</td>\n",
       "      <td>new_user</td>\n",
       "    </tr>\n",
       "    <tr>\n",
       "      <th>9</th>\n",
       "      <td>9cff0b7e-d42b-4508-9fbe-a4e74f7f29c5</td>\n",
       "      <td>2022-05-15 18:11:06.610965</td>\n",
       "      <td>treatment</td>\n",
       "      <td>svm_ensemble_v_1_22</td>\n",
       "      <td>1</td>\n",
       "      <td>United Kingdom</td>\n",
       "      <td>26-33</td>\n",
       "      <td>new_user</td>\n",
       "    </tr>\n",
       "    <tr>\n",
       "      <th>11</th>\n",
       "      <td>1cc7ebbb-efb9-43a6-9230-11161ae910ba</td>\n",
       "      <td>2022-05-21 22:37:47.774891</td>\n",
       "      <td>treatment</td>\n",
       "      <td>svm_ensemble_v_1_22</td>\n",
       "      <td>0</td>\n",
       "      <td>United Kingdom</td>\n",
       "      <td>58+</td>\n",
       "      <td>new_user</td>\n",
       "    </tr>\n",
       "    <tr>\n",
       "      <th>14</th>\n",
       "      <td>137d7bf0-309c-4aad-ad9e-302a2f45dc70</td>\n",
       "      <td>2022-05-22 11:45:11.327945</td>\n",
       "      <td>treatment</td>\n",
       "      <td>svm_ensemble_v_1_22</td>\n",
       "      <td>0</td>\n",
       "      <td>United Kingdom</td>\n",
       "      <td>50-57</td>\n",
       "      <td>new_user</td>\n",
       "    </tr>\n",
       "    <tr>\n",
       "      <th>...</th>\n",
       "      <td>...</td>\n",
       "      <td>...</td>\n",
       "      <td>...</td>\n",
       "      <td>...</td>\n",
       "      <td>...</td>\n",
       "      <td>...</td>\n",
       "      <td>...</td>\n",
       "      <td>...</td>\n",
       "    </tr>\n",
       "    <tr>\n",
       "      <th>294471</th>\n",
       "      <td>31b72c34-b5e6-412d-a651-2d68e40294b7</td>\n",
       "      <td>2022-05-21 22:44:20.378320</td>\n",
       "      <td>control</td>\n",
       "      <td>standard</td>\n",
       "      <td>0</td>\n",
       "      <td>United Kingdom</td>\n",
       "      <td>50-57</td>\n",
       "      <td>new_user</td>\n",
       "    </tr>\n",
       "    <tr>\n",
       "      <th>294472</th>\n",
       "      <td>28897e32-65de-4fd0-8b57-66f1dc1cab3f</td>\n",
       "      <td>2022-05-04 03:36:46.071379</td>\n",
       "      <td>treatment</td>\n",
       "      <td>svm_ensemble_v_1_22</td>\n",
       "      <td>0</td>\n",
       "      <td>United Kingdom</td>\n",
       "      <td>18-25</td>\n",
       "      <td>new_user</td>\n",
       "    </tr>\n",
       "    <tr>\n",
       "      <th>294473</th>\n",
       "      <td>497bf0f8-0092-4736-8ae7-775b6cc9736c</td>\n",
       "      <td>2022-05-03 22:28:38.630509</td>\n",
       "      <td>control</td>\n",
       "      <td>standard</td>\n",
       "      <td>0</td>\n",
       "      <td>United Kingdom</td>\n",
       "      <td>58+</td>\n",
       "      <td>new_user</td>\n",
       "    </tr>\n",
       "    <tr>\n",
       "      <th>294474</th>\n",
       "      <td>6cb20e62-e49d-41cf-97da-0e11cb439dca</td>\n",
       "      <td>2022-05-12 00:51:57.078372</td>\n",
       "      <td>control</td>\n",
       "      <td>standard</td>\n",
       "      <td>0</td>\n",
       "      <td>United Kingdom</td>\n",
       "      <td>42-49</td>\n",
       "      <td>new_user</td>\n",
       "    </tr>\n",
       "    <tr>\n",
       "      <th>294476</th>\n",
       "      <td>c6bd8da5-2114-4fd4-92c6-e4b11a8be4dc</td>\n",
       "      <td>2022-05-15 01:20:28.957438</td>\n",
       "      <td>control</td>\n",
       "      <td>standard</td>\n",
       "      <td>0</td>\n",
       "      <td>United Kingdom</td>\n",
       "      <td>50-57</td>\n",
       "      <td>new_user</td>\n",
       "    </tr>\n",
       "  </tbody>\n",
       "</table>\n",
       "<p>147238 rows × 8 columns</p>\n",
       "</div>"
      ],
      "text/plain": [
       "                                     user_id                   timestamp  \\\n",
       "2       44788c4e-8dd2-4fad-b986-75e76f4adb64  2022-05-11 16:55:06.154213   \n",
       "8       070f398e-e6bf-43e7-88bb-37eff2cb9212  2022-05-04 17:58:08.979471   \n",
       "9       9cff0b7e-d42b-4508-9fbe-a4e74f7f29c5  2022-05-15 18:11:06.610965   \n",
       "11      1cc7ebbb-efb9-43a6-9230-11161ae910ba  2022-05-21 22:37:47.774891   \n",
       "14      137d7bf0-309c-4aad-ad9e-302a2f45dc70  2022-05-22 11:45:11.327945   \n",
       "...                                      ...                         ...   \n",
       "294471  31b72c34-b5e6-412d-a651-2d68e40294b7  2022-05-21 22:44:20.378320   \n",
       "294472  28897e32-65de-4fd0-8b57-66f1dc1cab3f  2022-05-04 03:36:46.071379   \n",
       "294473  497bf0f8-0092-4736-8ae7-775b6cc9736c  2022-05-03 22:28:38.630509   \n",
       "294474  6cb20e62-e49d-41cf-97da-0e11cb439dca  2022-05-12 00:51:57.078372   \n",
       "294476  c6bd8da5-2114-4fd4-92c6-e4b11a8be4dc  2022-05-15 01:20:28.957438   \n",
       "\n",
       "            group             variants  converted        location age_group  \\\n",
       "2       treatment  svm_ensemble_v_1_22          0  United Kingdom     26-33   \n",
       "8       treatment  svm_ensemble_v_1_22          1  United Kingdom     18-25   \n",
       "9       treatment  svm_ensemble_v_1_22          1  United Kingdom     26-33   \n",
       "11      treatment  svm_ensemble_v_1_22          0  United Kingdom       58+   \n",
       "14      treatment  svm_ensemble_v_1_22          0  United Kingdom     50-57   \n",
       "...           ...                  ...        ...             ...       ...   \n",
       "294471    control             standard          0  United Kingdom     50-57   \n",
       "294472  treatment  svm_ensemble_v_1_22          0  United Kingdom     18-25   \n",
       "294473    control             standard          0  United Kingdom       58+   \n",
       "294474    control             standard          0  United Kingdom     42-49   \n",
       "294476    control             standard          0  United Kingdom     50-57   \n",
       "\n",
       "       user_type  \n",
       "2       new_user  \n",
       "8       new_user  \n",
       "9       new_user  \n",
       "11      new_user  \n",
       "14      new_user  \n",
       "...          ...  \n",
       "294471  new_user  \n",
       "294472  new_user  \n",
       "294473  new_user  \n",
       "294474  new_user  \n",
       "294476  new_user  \n",
       "\n",
       "[147238 rows x 8 columns]"
      ]
     },
     "execution_count": 11,
     "metadata": {},
     "output_type": "execute_result"
    }
   ],
   "source": [
    "# создадим df для группы new_user\n",
    "df_new = df.loc[df['user_type'] == 'new_user']\n",
    "df_new"
   ]
  },
  {
   "cell_type": "code",
   "execution_count": 12,
   "metadata": {},
   "outputs": [
    {
     "name": "stdout",
     "output_type": "stream",
     "text": [
      "<class 'pandas.core.frame.DataFrame'>\n",
      "Index: 147238 entries, 2 to 294476\n",
      "Data columns (total 8 columns):\n",
      " #   Column     Non-Null Count   Dtype \n",
      "---  ------     --------------   ----- \n",
      " 0   user_id    147238 non-null  object\n",
      " 1   timestamp  147238 non-null  object\n",
      " 2   group      147238 non-null  object\n",
      " 3   variants   147238 non-null  object\n",
      " 4   converted  147238 non-null  int64 \n",
      " 5   location   147238 non-null  object\n",
      " 6   age_group  147238 non-null  object\n",
      " 7   user_type  147238 non-null  object\n",
      "dtypes: int64(1), object(7)\n",
      "memory usage: 10.1+ MB\n"
     ]
    }
   ],
   "source": [
    "df_new.info()"
   ]
  },
  {
   "cell_type": "markdown",
   "metadata": {},
   "source": [
    "### Сбор данных и их подготовка для группы new_user"
   ]
  },
  {
   "cell_type": "code",
   "execution_count": 13,
   "metadata": {},
   "outputs": [
    {
     "name": "stdout",
     "output_type": "stream",
     "text": [
      "У нас имеются 0 пользователей, которые не уникальны в нашей выборке.\n"
     ]
    }
   ],
   "source": [
    "# проверяем уникальность пользователей\n",
    "sessions = df_new['user_id'].value_counts(ascending=False)\n",
    "duplicate_users = sessions[sessions > 1].count()\n",
    "print(f\"У нас имеются {duplicate_users} пользователей, которые не уникальны в нашей выборке.\")"
   ]
  },
  {
   "cell_type": "code",
   "execution_count": 14,
   "metadata": {},
   "outputs": [
    {
     "name": "stdout",
     "output_type": "stream",
     "text": [
      "Количество пользователей без дубликтов 147238\n"
     ]
    }
   ],
   "source": [
    "# проверяем количество пользователей без дубликтов\n",
    "users_to_drop = sessions[sessions > 1].index\n",
    "# Проверяем вхождения, знак ~ логическо нет\n",
    "df_new = df_new[~df_new['user_id'].isin(users_to_drop)]\n",
    "print(f\"Количество пользователей без дубликтов {df_new.shape[0]}\")"
   ]
  },
  {
   "cell_type": "code",
   "execution_count": 15,
   "metadata": {},
   "outputs": [
    {
     "data": {
      "text/plain": [
       "user_id      0\n",
       "timestamp    0\n",
       "group        0\n",
       "variants     0\n",
       "converted    0\n",
       "location     0\n",
       "age_group    0\n",
       "user_type    0\n",
       "dtype: int64"
      ]
     },
     "execution_count": 15,
     "metadata": {},
     "output_type": "execute_result"
    }
   ],
   "source": [
    "# проверим на NaN строки\n",
    "df_new.isnull().sum()"
   ]
  },
  {
   "cell_type": "code",
   "execution_count": 16,
   "metadata": {},
   "outputs": [
    {
     "data": {
      "text/plain": [
       "array(['svm_ensemble_v_1_22', 'standard'], dtype=object)"
      ]
     },
     "execution_count": 16,
     "metadata": {},
     "output_type": "execute_result"
    }
   ],
   "source": [
    "# имеющиеся группы для A/B теста\n",
    "df_new.variants.unique()"
   ]
  },
  {
   "cell_type": "code",
   "execution_count": 17,
   "metadata": {},
   "outputs": [
    {
     "data": {
      "text/plain": [
       "variants\n",
       "standard               73797\n",
       "svm_ensemble_v_1_22    73441\n",
       "Name: count, dtype: int64"
      ]
     },
     "execution_count": 17,
     "metadata": {},
     "output_type": "execute_result"
    }
   ],
   "source": [
    "# распределение вариантов работы для новых пользователей \n",
    "df_new.variants.value_counts()"
   ]
  },
  {
   "cell_type": "code",
   "execution_count": 18,
   "metadata": {},
   "outputs": [
    {
     "data": {
      "text/plain": [
       "variants\n",
       "standard               0.501209\n",
       "svm_ensemble_v_1_22    0.498791\n",
       "Name: proportion, dtype: float64"
      ]
     },
     "execution_count": 18,
     "metadata": {},
     "output_type": "execute_result"
    }
   ],
   "source": [
    "# определяем долю уникальных значений относительно общего числа вхождений\n",
    "df_new.variants.value_counts(normalize=True)"
   ]
  },
  {
   "cell_type": "markdown",
   "metadata": {},
   "source": [
    "### Визуализация результатов эксперимента для группы new_user"
   ]
  },
  {
   "cell_type": "code",
   "execution_count": 19,
   "metadata": {},
   "outputs": [
    {
     "data": {
      "text/html": [
       "<div>\n",
       "<style scoped>\n",
       "    .dataframe tbody tr th:only-of-type {\n",
       "        vertical-align: middle;\n",
       "    }\n",
       "\n",
       "    .dataframe tbody tr th {\n",
       "        vertical-align: top;\n",
       "    }\n",
       "\n",
       "    .dataframe thead th {\n",
       "        text-align: right;\n",
       "    }\n",
       "</style>\n",
       "<table border=\"1\" class=\"dataframe\">\n",
       "  <thead>\n",
       "    <tr style=\"text-align: right;\">\n",
       "      <th></th>\n",
       "      <th>CR mean</th>\n",
       "      <th>CR std</th>\n",
       "      <th>CR se</th>\n",
       "    </tr>\n",
       "    <tr>\n",
       "      <th>variants</th>\n",
       "      <th></th>\n",
       "      <th></th>\n",
       "      <th></th>\n",
       "    </tr>\n",
       "  </thead>\n",
       "  <tbody>\n",
       "    <tr>\n",
       "      <th>standard</th>\n",
       "      <td>0.121075</td>\n",
       "      <td>0.326215</td>\n",
       "      <td>0.001201</td>\n",
       "    </tr>\n",
       "    <tr>\n",
       "      <th>svm_ensemble_v_1_22</th>\n",
       "      <td>0.117223</td>\n",
       "      <td>0.321686</td>\n",
       "      <td>0.001187</td>\n",
       "    </tr>\n",
       "  </tbody>\n",
       "</table>\n",
       "</div>"
      ],
      "text/plain": [
       "                      CR mean    CR std     CR se\n",
       "variants                                         \n",
       "standard             0.121075  0.326215  0.001201\n",
       "svm_ensemble_v_1_22  0.117223  0.321686  0.001187"
      ]
     },
     "execution_count": 19,
     "metadata": {},
     "output_type": "execute_result"
    }
   ],
   "source": [
    "# рассчитаем выборочные статистики, чтобы понять каково распределение данных и как выглядят наши выборки\n",
    "conversion_rates = df_new.groupby('variants')['converted']\n",
    "\n",
    "# Стандартное отклонение для выборки\n",
    "std_proportion = lambda x: np.std(x, ddof=0)\n",
    "\n",
    "# Стандартная ошибка для выборки\n",
    "se_proportion = lambda x: stats.sem(x, ddof=0)\n",
    "\n",
    "# уровень коверсии\n",
    "conversion_rates = conversion_rates.agg(['mean', std_proportion, se_proportion]).rename(columns={'mean':'CR mean', '<lambda_0>':'CR std', '<lambda_1>':'CR se'})\n",
    "conversion_rates"
   ]
  },
  {
   "cell_type": "markdown",
   "metadata": {},
   "source": [
    "##### Как мы видим по метрикам, два эксперимента +/- по выборочным статистикам показывают себя одинаково, за исключением выборочного среднего коэффициента конверсии ~11.7% для нового варианта работы против ~12.1% для старого варианта "
   ]
  },
  {
   "cell_type": "code",
   "execution_count": 20,
   "metadata": {},
   "outputs": [
    {
     "data": {
      "image/png": "[encoded data removed]",
      "text/plain": [
       "<Figure size 800x600 with 1 Axes>"
      ]
     },
     "metadata": {},
     "output_type": "display_data"
    }
   ],
   "source": [
    "plt.rcParams['font.family'] = 'sans-serif'\n",
    "# определим цвета.  сопоставим цвета с колонкой group в нашем df\n",
    "unique_groups = df_new['variants'].unique()\n",
    "colors = sns.color_palette(\"Set2\", n_colors=len(unique_groups))  # выберем палитру и сопоставим с unique_groups\n",
    "\n",
    "plt.figure(figsize=(8, 6))\n",
    "sns.barplot(x='variants', y='converted', data=df_new, hue='variants', errorbar=('ci', False), palette=colors, legend=False) \n",
    "plt.ylim(0, 0.17)\n",
    "plt.title('Conversion rate by variants', pad=20)\n",
    "plt.xlabel('variants', labelpad=15)\n",
    "plt.ylabel('Converted (proportion)', labelpad=15)\n",
    "plt.show()\n"
   ]
  },
  {
   "cell_type": "markdown",
   "metadata": {},
   "source": [
    "### Тестирование гипотезы для группы new_user"
   ]
  },
  {
   "cell_type": "code",
   "execution_count": 21,
   "metadata": {},
   "outputs": [
    {
     "name": "stdout",
     "output_type": "stream",
     "text": [
      "Z-statistic: 2.28\n",
      "p-value: 0.023\n",
      "CI 95% for standard: [0.119, 0.123]\n",
      "CI 95% for svm_ensemble_v_1_22: [0.115, 0.120]\n"
     ]
    }
   ],
   "source": [
    "from statsmodels.stats.proportion import proportions_ztest, proportion_confint\n",
    "\n",
    "standard = df_new[df_new['variants'] == 'standard']['converted']\n",
    "svm_ensemble = df_new[df_new['variants'] == 'svm_ensemble_v_1_22']['converted']\n",
    "\n",
    "n_standard = standard.count()\n",
    "n_svm_ensemble = svm_ensemble.count()\n",
    "successes = [standard.sum(), svm_ensemble.sum()]\n",
    "nobs = [n_standard, n_svm_ensemble]\n",
    "\n",
    "z_stat, pval = proportions_ztest(successes, nobs=nobs)\n",
    "(lower_new, lower_registered), (upper_new, upper_registered) = proportion_confint(successes, nobs=nobs, alpha=0.05)\n",
    "\n",
    "print(f'Z-statistic: {z_stat:.2f}')\n",
    "print(f'p-value: {pval:.3f}')\n",
    "print(f'CI 95% for standard: [{lower_new:.3f}, {upper_new:.3f}]')\n",
    "print(f'CI 95% for svm_ensemble_v_1_22: [{lower_registered:.3f}, {upper_registered:.3f}]')"
   ]
  },
  {
   "cell_type": "markdown",
   "metadata": {},
   "source": [
    "### Интерпретация результатов для группы new_user"
   ]
  },
  {
   "cell_type": "markdown",
   "metadata": {},
   "source": [
    "Так как наше p-значение = 0.023 что ниже выбранной альфы 0.05, то согласно статистическому выводу, мы можем отклонить нулевую гипотезу H0, что означает что новый вариант работы svm_ensemble_v_1_22 статистически значимо влияет на уровень конверсии и повышение уровня конверсии в отношении новых пользоватлей.\n",
    "\n",
    "Доверительный интервал для испытуемой группы [0.115, 0.120] или 11% и 12% соответственно:\n",
    "1. Он не включает наш baseline в 13%\n",
    "2. Он не достигает нашей цели 15%\n",
    "\n",
    "Новый вариант работы svm_ensemble_v_1_22 статистически влияет на новых пользователей, однако не достигает нашей цели по увеличению конверсии на 2%.\n",
    "Выбор:\n",
    "1.Новый вариант работы влияет на новых пользователей, соответственно имеет смысл доработать svm_ensemble_v_1_22 и оценить опять;\n",
    "2. Нам стоит оставить старый вариант работы, если доработка не окупается.\n",
    "\n",
    "Оставить новый вариант работы для новых пользователей"
   ]
  },
  {
   "cell_type": "markdown",
   "metadata": {},
   "source": [
    "## Тест группы registered_user "
   ]
  },
  {
   "cell_type": "code",
   "execution_count": 22,
   "metadata": {},
   "outputs": [
    {
     "data": {
      "text/html": [
       "<div>\n",
       "<style scoped>\n",
       "    .dataframe tbody tr th:only-of-type {\n",
       "        vertical-align: middle;\n",
       "    }\n",
       "\n",
       "    .dataframe tbody tr th {\n",
       "        vertical-align: top;\n",
       "    }\n",
       "\n",
       "    .dataframe thead th {\n",
       "        text-align: right;\n",
       "    }\n",
       "</style>\n",
       "<table border=\"1\" class=\"dataframe\">\n",
       "  <thead>\n",
       "    <tr style=\"text-align: right;\">\n",
       "      <th></th>\n",
       "      <th>user_id</th>\n",
       "      <th>timestamp</th>\n",
       "      <th>group</th>\n",
       "      <th>variants</th>\n",
       "      <th>converted</th>\n",
       "      <th>location</th>\n",
       "      <th>age_group</th>\n",
       "      <th>user_type</th>\n",
       "    </tr>\n",
       "  </thead>\n",
       "  <tbody>\n",
       "    <tr>\n",
       "      <th>0</th>\n",
       "      <td>9109b0dc-d393-497f-8d63-ba9a25dd16b4</td>\n",
       "      <td>2022-05-21 22:11:48.556739</td>\n",
       "      <td>control</td>\n",
       "      <td>standard</td>\n",
       "      <td>0</td>\n",
       "      <td>United Kingdom</td>\n",
       "      <td>18-25</td>\n",
       "      <td>registered_user</td>\n",
       "    </tr>\n",
       "    <tr>\n",
       "      <th>1</th>\n",
       "      <td>2430c3d2-f75b-4b31-8271-51b6a76c2652</td>\n",
       "      <td>2022-05-12 08:01:45.159739</td>\n",
       "      <td>control</td>\n",
       "      <td>standard</td>\n",
       "      <td>0</td>\n",
       "      <td>United Kingdom</td>\n",
       "      <td>42-49</td>\n",
       "      <td>registered_user</td>\n",
       "    </tr>\n",
       "    <tr>\n",
       "      <th>3</th>\n",
       "      <td>4699a417-506d-41b8-a354-6af6ad576963</td>\n",
       "      <td>2022-05-08 18:28:03.143765</td>\n",
       "      <td>treatment</td>\n",
       "      <td>svm_ensemble_v_1_22</td>\n",
       "      <td>0</td>\n",
       "      <td>United Kingdom</td>\n",
       "      <td>42-49</td>\n",
       "      <td>registered_user</td>\n",
       "    </tr>\n",
       "    <tr>\n",
       "      <th>4</th>\n",
       "      <td>304b0d28-bcdf-401a-9dff-66230d3ba0bc</td>\n",
       "      <td>2022-05-21 01:52:26.210827</td>\n",
       "      <td>control</td>\n",
       "      <td>standard</td>\n",
       "      <td>1</td>\n",
       "      <td>United Kingdom</td>\n",
       "      <td>42-49</td>\n",
       "      <td>registered_user</td>\n",
       "    </tr>\n",
       "    <tr>\n",
       "      <th>5</th>\n",
       "      <td>426f77eb-8739-43b6-999c-aecd14d9f346</td>\n",
       "      <td>2022-05-10 15:20:49.083499</td>\n",
       "      <td>control</td>\n",
       "      <td>standard</td>\n",
       "      <td>0</td>\n",
       "      <td>United Kingdom</td>\n",
       "      <td>42-49</td>\n",
       "      <td>registered_user</td>\n",
       "    </tr>\n",
       "    <tr>\n",
       "      <th>...</th>\n",
       "      <td>...</td>\n",
       "      <td>...</td>\n",
       "      <td>...</td>\n",
       "      <td>...</td>\n",
       "      <td>...</td>\n",
       "      <td>...</td>\n",
       "      <td>...</td>\n",
       "      <td>...</td>\n",
       "    </tr>\n",
       "    <tr>\n",
       "      <th>294464</th>\n",
       "      <td>9c1f18e9-b20f-4ef2-ae8d-3a190c93e5c3</td>\n",
       "      <td>2022-05-17 01:51:56.106436</td>\n",
       "      <td>control</td>\n",
       "      <td>standard</td>\n",
       "      <td>0</td>\n",
       "      <td>United Kingdom</td>\n",
       "      <td>34-41</td>\n",
       "      <td>registered_user</td>\n",
       "    </tr>\n",
       "    <tr>\n",
       "      <th>294468</th>\n",
       "      <td>873f6fd0-8f8b-47c9-b38e-b18b65262430</td>\n",
       "      <td>2022-05-02 19:20:05.460595</td>\n",
       "      <td>treatment</td>\n",
       "      <td>svm_ensemble_v_1_22</td>\n",
       "      <td>0</td>\n",
       "      <td>United Kingdom</td>\n",
       "      <td>42-49</td>\n",
       "      <td>registered_user</td>\n",
       "    </tr>\n",
       "    <tr>\n",
       "      <th>294470</th>\n",
       "      <td>bd11ea90-58e6-4e15-b9b7-1e45bb83475a</td>\n",
       "      <td>2022-05-11 02:42:21.195145</td>\n",
       "      <td>control</td>\n",
       "      <td>standard</td>\n",
       "      <td>0</td>\n",
       "      <td>United Kingdom</td>\n",
       "      <td>34-41</td>\n",
       "      <td>registered_user</td>\n",
       "    </tr>\n",
       "    <tr>\n",
       "      <th>294475</th>\n",
       "      <td>d307b0ad-92a1-409c-a2d2-da8f4a118576</td>\n",
       "      <td>2022-05-22 11:45:03.439544</td>\n",
       "      <td>control</td>\n",
       "      <td>standard</td>\n",
       "      <td>0</td>\n",
       "      <td>United Kingdom</td>\n",
       "      <td>18-25</td>\n",
       "      <td>registered_user</td>\n",
       "    </tr>\n",
       "    <tr>\n",
       "      <th>294477</th>\n",
       "      <td>4bc6ffc3-c33a-4aae-aca1-e4f16b0b94a0</td>\n",
       "      <td>2022-05-16 12:40:24.467417</td>\n",
       "      <td>treatment</td>\n",
       "      <td>svm_ensemble_v_1_22</td>\n",
       "      <td>0</td>\n",
       "      <td>United Kingdom</td>\n",
       "      <td>50-57</td>\n",
       "      <td>registered_user</td>\n",
       "    </tr>\n",
       "  </tbody>\n",
       "</table>\n",
       "<p>147240 rows × 8 columns</p>\n",
       "</div>"
      ],
      "text/plain": [
       "                                     user_id                   timestamp  \\\n",
       "0       9109b0dc-d393-497f-8d63-ba9a25dd16b4  2022-05-21 22:11:48.556739   \n",
       "1       2430c3d2-f75b-4b31-8271-51b6a76c2652  2022-05-12 08:01:45.159739   \n",
       "3       4699a417-506d-41b8-a354-6af6ad576963  2022-05-08 18:28:03.143765   \n",
       "4       304b0d28-bcdf-401a-9dff-66230d3ba0bc  2022-05-21 01:52:26.210827   \n",
       "5       426f77eb-8739-43b6-999c-aecd14d9f346  2022-05-10 15:20:49.083499   \n",
       "...                                      ...                         ...   \n",
       "294464  9c1f18e9-b20f-4ef2-ae8d-3a190c93e5c3  2022-05-17 01:51:56.106436   \n",
       "294468  873f6fd0-8f8b-47c9-b38e-b18b65262430  2022-05-02 19:20:05.460595   \n",
       "294470  bd11ea90-58e6-4e15-b9b7-1e45bb83475a  2022-05-11 02:42:21.195145   \n",
       "294475  d307b0ad-92a1-409c-a2d2-da8f4a118576  2022-05-22 11:45:03.439544   \n",
       "294477  4bc6ffc3-c33a-4aae-aca1-e4f16b0b94a0  2022-05-16 12:40:24.467417   \n",
       "\n",
       "            group             variants  converted        location age_group  \\\n",
       "0         control             standard          0  United Kingdom     18-25   \n",
       "1         control             standard          0  United Kingdom     42-49   \n",
       "3       treatment  svm_ensemble_v_1_22          0  United Kingdom     42-49   \n",
       "4         control             standard          1  United Kingdom     42-49   \n",
       "5         control             standard          0  United Kingdom     42-49   \n",
       "...           ...                  ...        ...             ...       ...   \n",
       "294464    control             standard          0  United Kingdom     34-41   \n",
       "294468  treatment  svm_ensemble_v_1_22          0  United Kingdom     42-49   \n",
       "294470    control             standard          0  United Kingdom     34-41   \n",
       "294475    control             standard          0  United Kingdom     18-25   \n",
       "294477  treatment  svm_ensemble_v_1_22          0  United Kingdom     50-57   \n",
       "\n",
       "              user_type  \n",
       "0       registered_user  \n",
       "1       registered_user  \n",
       "3       registered_user  \n",
       "4       registered_user  \n",
       "5       registered_user  \n",
       "...                 ...  \n",
       "294464  registered_user  \n",
       "294468  registered_user  \n",
       "294470  registered_user  \n",
       "294475  registered_user  \n",
       "294477  registered_user  \n",
       "\n",
       "[147240 rows x 8 columns]"
      ]
     },
     "execution_count": 22,
     "metadata": {},
     "output_type": "execute_result"
    }
   ],
   "source": [
    "# создадим df для группы registered_user\n",
    "df_reg = df.loc[df['user_type'] == 'registered_user']\n",
    "df_reg"
   ]
  },
  {
   "cell_type": "code",
   "execution_count": 23,
   "metadata": {},
   "outputs": [
    {
     "name": "stdout",
     "output_type": "stream",
     "text": [
      "<class 'pandas.core.frame.DataFrame'>\n",
      "Index: 147240 entries, 0 to 294477\n",
      "Data columns (total 8 columns):\n",
      " #   Column     Non-Null Count   Dtype \n",
      "---  ------     --------------   ----- \n",
      " 0   user_id    147240 non-null  object\n",
      " 1   timestamp  147240 non-null  object\n",
      " 2   group      147240 non-null  object\n",
      " 3   variants   147240 non-null  object\n",
      " 4   converted  147240 non-null  int64 \n",
      " 5   location   147240 non-null  object\n",
      " 6   age_group  147240 non-null  object\n",
      " 7   user_type  147240 non-null  object\n",
      "dtypes: int64(1), object(7)\n",
      "memory usage: 10.1+ MB\n"
     ]
    }
   ],
   "source": [
    "df_reg.info()"
   ]
  },
  {
   "cell_type": "markdown",
   "metadata": {},
   "source": [
    "### Сбор данных и их подготовка для группы registered_user"
   ]
  },
  {
   "cell_type": "code",
   "execution_count": 24,
   "metadata": {},
   "outputs": [
    {
     "name": "stdout",
     "output_type": "stream",
     "text": [
      "У нас имеются 0 пользователей, которые не уникальны в нашей выборке.\n"
     ]
    }
   ],
   "source": [
    "# проверяем уникальность пользователей\n",
    "sessions = df_reg['user_id'].value_counts(ascending=False)\n",
    "duplicate_users = sessions[sessions > 1].count()\n",
    "print(f\"У нас имеются {duplicate_users} пользователей, которые не уникальны в нашей выборке.\")"
   ]
  },
  {
   "cell_type": "code",
   "execution_count": 25,
   "metadata": {},
   "outputs": [
    {
     "name": "stdout",
     "output_type": "stream",
     "text": [
      "Количество пользователей без дубликтов 147240\n"
     ]
    }
   ],
   "source": [
    "# проверяем количество пользователей без дубликтов\n",
    "users_to_drop = sessions[sessions > 1].index\n",
    "# Проверяем вхождения, знак ~ логическо нет\n",
    "df_reg = df_reg[~df_reg['user_id'].isin(users_to_drop)]\n",
    "print(f\"Количество пользователей без дубликтов {df_reg.shape[0]}\")"
   ]
  },
  {
   "cell_type": "code",
   "execution_count": 26,
   "metadata": {},
   "outputs": [
    {
     "data": {
      "text/plain": [
       "user_id      0\n",
       "timestamp    0\n",
       "group        0\n",
       "variants     0\n",
       "converted    0\n",
       "location     0\n",
       "age_group    0\n",
       "user_type    0\n",
       "dtype: int64"
      ]
     },
     "execution_count": 26,
     "metadata": {},
     "output_type": "execute_result"
    }
   ],
   "source": [
    "# проверим на NaN строки\n",
    "df_reg.isnull().sum()"
   ]
  },
  {
   "cell_type": "code",
   "execution_count": 27,
   "metadata": {},
   "outputs": [
    {
     "data": {
      "text/plain": [
       "array(['standard', 'svm_ensemble_v_1_22'], dtype=object)"
      ]
     },
     "execution_count": 27,
     "metadata": {},
     "output_type": "execute_result"
    }
   ],
   "source": [
    "# имеющиеся группы для A/B теста\n",
    "df_reg.variants.unique()"
   ]
  },
  {
   "cell_type": "code",
   "execution_count": 28,
   "metadata": {},
   "outputs": [
    {
     "data": {
      "text/plain": [
       "variants\n",
       "svm_ensemble_v_1_22    73798\n",
       "standard               73442\n",
       "Name: count, dtype: int64"
      ]
     },
     "execution_count": 28,
     "metadata": {},
     "output_type": "execute_result"
    }
   ],
   "source": [
    "# распределение вариантов работы для зарегистрированных пользователей \n",
    "df_reg.variants.value_counts()"
   ]
  },
  {
   "cell_type": "code",
   "execution_count": 29,
   "metadata": {},
   "outputs": [
    {
     "data": {
      "text/plain": [
       "variants\n",
       "svm_ensemble_v_1_22    0.501209\n",
       "standard               0.498791\n",
       "Name: proportion, dtype: float64"
      ]
     },
     "execution_count": 29,
     "metadata": {},
     "output_type": "execute_result"
    }
   ],
   "source": [
    "# определяем долю уникальных значений относительно общего числа вхождений\n",
    "df_reg.variants.value_counts(normalize=True)"
   ]
  },
  {
   "cell_type": "markdown",
   "metadata": {},
   "source": [
    "### Визуализация результатов эксперимента для группы registered_user"
   ]
  },
  {
   "cell_type": "code",
   "execution_count": 30,
   "metadata": {},
   "outputs": [
    {
     "data": {
      "text/html": [
       "<div>\n",
       "<style scoped>\n",
       "    .dataframe tbody tr th:only-of-type {\n",
       "        vertical-align: middle;\n",
       "    }\n",
       "\n",
       "    .dataframe tbody tr th {\n",
       "        vertical-align: top;\n",
       "    }\n",
       "\n",
       "    .dataframe thead th {\n",
       "        text-align: right;\n",
       "    }\n",
       "</style>\n",
       "<table border=\"1\" class=\"dataframe\">\n",
       "  <thead>\n",
       "    <tr style=\"text-align: right;\">\n",
       "      <th></th>\n",
       "      <th>CR mean</th>\n",
       "      <th>CR std</th>\n",
       "      <th>CR se</th>\n",
       "    </tr>\n",
       "    <tr>\n",
       "      <th>variants</th>\n",
       "      <th></th>\n",
       "      <th></th>\n",
       "      <th></th>\n",
       "    </tr>\n",
       "  </thead>\n",
       "  <tbody>\n",
       "    <tr>\n",
       "      <th>standard</th>\n",
       "      <td>0.119877</td>\n",
       "      <td>0.324818</td>\n",
       "      <td>0.001199</td>\n",
       "    </tr>\n",
       "    <tr>\n",
       "      <th>svm_ensemble_v_1_22</th>\n",
       "      <td>0.120450</td>\n",
       "      <td>0.325488</td>\n",
       "      <td>0.001198</td>\n",
       "    </tr>\n",
       "  </tbody>\n",
       "</table>\n",
       "</div>"
      ],
      "text/plain": [
       "                      CR mean    CR std     CR se\n",
       "variants                                         \n",
       "standard             0.119877  0.324818  0.001199\n",
       "svm_ensemble_v_1_22  0.120450  0.325488  0.001198"
      ]
     },
     "execution_count": 30,
     "metadata": {},
     "output_type": "execute_result"
    }
   ],
   "source": [
    "# рассчитаем выборочные статистики, чтобы понять каково распределение данных и как выглядят наши выборки\n",
    "conversion_rates = df_reg.groupby('variants')['converted']\n",
    "\n",
    "# Стандартное отклонение для выборки\n",
    "std_proportion = lambda x: np.std(x, ddof=0)\n",
    "\n",
    "# Стандартная ошибка для выборки\n",
    "se_proportion = lambda x: stats.sem(x, ddof=0)\n",
    "\n",
    "# уровень коверсии\n",
    "conversion_rates = conversion_rates.agg(['mean', std_proportion, se_proportion]).rename(columns={'mean':'CR mean', '<lambda_0>':'CR std', '<lambda_1>':'CR se'})\n",
    "conversion_rates"
   ]
  },
  {
   "cell_type": "markdown",
   "metadata": {},
   "source": [
    "Как мы видим по метрикам, два эксперимента +/- по выборочным статистикам показывают себя одинаково, в том числе выборочные средние коэффициенты конверсии ~11.98% для старого варианта работы против ~12.04% для нового варианта¶"
   ]
  },
  {
   "cell_type": "code",
   "execution_count": 31,
   "metadata": {},
   "outputs": [
    {
     "data": {
      "image/png": "[encoded data removed]",
      "text/plain": [
       "<Figure size 800x600 with 1 Axes>"
      ]
     },
     "metadata": {},
     "output_type": "display_data"
    }
   ],
   "source": [
    "plt.rcParams['font.family'] = 'sans-serif'\n",
    "# определим цвета.  сопоставим цвета с колонкой group в нашем df\n",
    "unique_groups = df_reg['variants'].unique()\n",
    "colors = sns.color_palette(\"Set2\", n_colors=len(unique_groups))  # выберем палитру и сопоставим с unique_groups\n",
    "\n",
    "plt.figure(figsize=(8, 6))\n",
    "sns.barplot(x='variants', y='converted', data=df_reg, hue='variants', errorbar=('ci', False), palette=colors, legend=False) \n",
    "plt.ylim(0, 0.17)\n",
    "plt.title('Conversion rate by variants', pad=20)\n",
    "plt.xlabel('variants', labelpad=15)\n",
    "plt.ylabel('Converted (proportion)', labelpad=15)\n",
    "plt.show()\n"
   ]
  },
  {
   "cell_type": "markdown",
   "metadata": {},
   "source": [
    "### Тестирование гипотезы для группы registered_user"
   ]
  },
  {
   "cell_type": "code",
   "execution_count": 32,
   "metadata": {},
   "outputs": [
    {
     "name": "stdout",
     "output_type": "stream",
     "text": [
      "Z-statistic: -0.34\n",
      "p-value: 0.735\n",
      "CI 95% for standard: [0.118, 0.122]\n",
      "CI 95% for svm_ensemble_v_1_22: [0.118, 0.123]\n"
     ]
    }
   ],
   "source": [
    "from statsmodels.stats.proportion import proportions_ztest, proportion_confint\n",
    "\n",
    "standard = df_reg[df_reg['variants'] == 'standard']['converted']\n",
    "svm_ensemble = df_reg[df_reg['variants'] == 'svm_ensemble_v_1_22']['converted']\n",
    "\n",
    "n_standard = standard.count()\n",
    "n_svm_ensemble = svm_ensemble.count()\n",
    "successes = [standard.sum(), svm_ensemble.sum()]\n",
    "nobs = [n_standard, n_svm_ensemble]\n",
    "\n",
    "z_stat, pval = proportions_ztest(successes, nobs=nobs)\n",
    "(lower_new, lower_registered), (upper_new, upper_registered) = proportion_confint(successes, nobs=nobs, alpha=0.05)\n",
    "\n",
    "print(f'Z-statistic: {z_stat:.2f}')\n",
    "print(f'p-value: {pval:.3f}')\n",
    "print(f'CI 95% for standard: [{lower_new:.3f}, {upper_new:.3f}]')\n",
    "print(f'CI 95% for svm_ensemble_v_1_22: [{lower_registered:.3f}, {upper_registered:.3f}]')"
   ]
  },
  {
   "cell_type": "markdown",
   "metadata": {},
   "source": [
    "### Интерпретация результатов для группы registered_user"
   ]
  },
  {
   "cell_type": "markdown",
   "metadata": {},
   "source": [
    "Так как наше p-значение = 0.735 что является высоким показателем по сравнению с выбранной альфой 0.05, то согласно статистическому выводу, мы не можем отклонить нулевую гипотезу H0, что означает наш новый вариант работы svm_ensemble_v_1_22 никак статистически значимо не влияет на уровень конверсии и повышение уровня конверсии для зарегистрированных пользователей- это случайность.\n",
    "\n",
    "Доверительный интервал для испытуемой группы [0.118, 0.123] или 11% и 12% соответственно:\n",
    "\n",
    "1.Он не включает наш baseline\n",
    "2.Он не достигает нашей цели 15%\n",
    "Мы можем интерпретировать это как - наиболее вероятно, что реальный уровень конверсии сайта с новым вариантом работы  будет близок к baseline чем к 15%, который мы определили по нашей цели. Таким образом у нас два выбора:\n",
    "\n",
    "1.Так как мы будем близко к baseline но его не достигает, то для зарегистрированных пользователей можно не оставлять новый вариант работы. \n",
    "2.Можно создать новую версию (потратить время, деньги, нервы) и опять протестировать, надо решать стоят ли затраты на новую версию 2% улучшения (покроются ли затраты на работу).\n",
    "\n",
    "Ничего не менять для зарегистрированных пользователей."
   ]
  },
  {
   "cell_type": "markdown",
   "metadata": {},
   "source": [
    "# EDA по датасету"
   ]
  },
  {
   "cell_type": "markdown",
   "metadata": {},
   "source": [
    "##### 1.Гистограмма (bar chart) для распределения пользователей по возрастным группам для всей выборки"
   ]
  },
  {
   "cell_type": "code",
   "execution_count": 33,
   "metadata": {},
   "outputs": [
    {
     "data": {
      "text/plain": [
       "age_group\n",
       "26-33    49270\n",
       "50-57    49230\n",
       "58+      49182\n",
       "42-49    49119\n",
       "34-41    48902\n",
       "18-25    48775\n",
       "Name: count, dtype: int64"
      ]
     },
     "execution_count": 33,
     "metadata": {},
     "output_type": "execute_result"
    }
   ],
   "source": [
    "# найдем распределение пользователей по возрастным группам\n",
    "df.age_group.value_counts()\n"
   ]
  },
  {
   "cell_type": "code",
   "execution_count": 34,
   "metadata": {},
   "outputs": [
    {
     "data": {
      "image/png": "[encoded data removed]",
      "text/plain": [
       "<Figure size 1000x600 with 1 Axes>"
      ]
     },
     "metadata": {},
     "output_type": "display_data"
    }
   ],
   "source": [
    "# построим гистограмму (bar chart) для распределения пользователей по возрастным группам\n",
    "data_age = {\n",
    "    'age_group': ['26-33', '50-57', '58+', '42-49', '34-41', '18-25'],\n",
    "    'count': [49270, 49230, 49182, 49119, 48902, 48775]\n",
    "}\n",
    "\n",
    "# создадим DataFrame\n",
    "df_age = pd.DataFrame(data_age)\n",
    "\n",
    "# установим Seaborn стиль\n",
    "sns.set(style='whitegrid')\n",
    "\n",
    "# создадим гистограмму\n",
    "plt.figure(figsize=(10, 6))\n",
    "sns.barplot(x='age_group', y='count', hue='age_group', data=df_age, palette='Blues', legend=False)\n",
    "\n",
    "# добавим названия\n",
    "plt.title('Раcпределение пользователей по возрастным группам', fontsize=16)\n",
    "plt.xlabel('Age Group', fontsize=14)\n",
    "plt.ylabel('Count', fontsize=14)\n",
    "plt.xticks(rotation=45)\n",
    "\n",
    "# вывод графика\n",
    "plt.tight_layout()\n",
    "plt.show()"
   ]
  },
  {
   "cell_type": "markdown",
   "metadata": {},
   "source": [
    "##### 2. Графики зависимости плотности вероятности от значений среднего для старого и нового вариантов работы."
   ]
  },
  {
   "cell_type": "code",
   "execution_count": 35,
   "metadata": {},
   "outputs": [
    {
     "name": "stderr",
     "output_type": "stream",
     "text": [
      "                                                                                \r"
     ]
    },
    {
     "data": {
      "image/png": "[encoded data removed]",
      "text/plain": [
       "<Figure size 640x480 with 1 Axes>"
      ]
     },
     "metadata": {},
     "output_type": "display_data"
    }
   ],
   "source": [
    "# выберем 100 итераций\n",
    "iterations = 1000\n",
    "boot_1d = []\n",
    "\n",
    "# создадим список с бутстрепированными средними для каждой группы AB\n",
    "for i in tqdm(range(iterations), leave=False):\n",
    "    boot_mean = df.sample(frac=1, replace=True).groupby('variants').converted.mean()\n",
    "    boot_1d.append(boot_mean)\n",
    "\n",
    "# трансформируем список в DataFrame\n",
    "boot_1d = pd.DataFrame(boot_1d)\n",
    "\n",
    "# График оценки плотности ядра бутстрап-распределений\n",
    "boot_1d.plot.kde()\n",
    "plt.title('Kernel Density Estimate of Bootstrapped Means')\n",
    "plt.xlabel('Retention Mean')\n",
    "plt.ylabel('Density')\n",
    "plt.show()"
   ]
  },
  {
   "cell_type": "markdown",
   "metadata": {},
   "source": [
    "##### 3. График зависимости целевых обращений на сайте по датам"
   ]
  },
  {
   "cell_type": "code",
   "execution_count": 36,
   "metadata": {},
   "outputs": [
    {
     "data": {
      "image/png": "[encoded data removed]",
      "text/plain": [
       "<Figure size 1000x500 with 1 Axes>"
      ]
     },
     "metadata": {},
     "output_type": "display_data"
    }
   ],
   "source": [
    "# преобразуем данные колнки 'timestamp' в формат datetime \n",
    "df['timestamp'] = pd.to_datetime(df['timestamp'])\n",
    "\n",
    "# сгруппируем данные по 'timestamp' \n",
    "# группируем значения converted по сумме\n",
    "df_grouped = df.groupby(df['timestamp'].dt.date)['converted'].sum()\n",
    "\n",
    "# выводим результты в виде гистограммы\n",
    "df_grouped.plot(kind='bar', figsize=(10, 5))\n",
    "plt.title('Converted Counts by Date')\n",
    "plt.xlabel('Date')\n",
    "plt.ylabel('Count of Converted')\n",
    "plt.xticks(rotation=45)\n",
    "plt.tight_layout()\n",
    "plt.show()"
   ]
  },
  {
   "cell_type": "code",
   "execution_count": null,
   "metadata": {},
   "outputs": [],
   "source": []
  }
 ],
 "metadata": {
  "colab": {
   "provenance": []
  },
  "kernelspec": {
   "display_name": "Python 3 (ipykernel)",
   "language": "python",
   "name": "python3"
  },
  "language_info": {
   "codemirror_mode": {
    "name": "ipython",
    "version": 3
   },
   "file_extension": ".py",
   "mimetype": "text/x-python",
   "name": "python",
   "nbconvert_exporter": "python",
   "pygments_lexer": "ipython3",
   "version": "3.12.4"
  }
 },
 "nbformat": 4,
 "nbformat_minor": 4
}
